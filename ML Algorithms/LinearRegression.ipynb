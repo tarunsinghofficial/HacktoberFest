{
  "nbformat": 4,
  "nbformat_minor": 0,
  "metadata": {
    "colab": {
      "name": "LinearRegression.ipynb",
      "provenance": [],
      "collapsed_sections": []
    },
    "kernelspec": {
      "name": "python3",
      "display_name": "Python 3"
    },
    "language_info": {
      "name": "python"
    }
  },
  "cells": [
    {
      "cell_type": "code",
      "metadata": {
        "id": "gJ1DyUqT_BCA"
      },
      "source": [
        "import pandas as pd\n",
        "import numpy as np\n",
        "import matplotlib.pyplot as plt"
      ],
      "execution_count": 1,
      "outputs": []
    },
    {
      "cell_type": "code",
      "metadata": {
        "id": "MuCOQ3Pzn1u9"
      },
      "source": [
        "from sklearn.linear_model import LinearRegression"
      ],
      "execution_count": 2,
      "outputs": []
    },
    {
      "cell_type": "code",
      "metadata": {
        "id": "A1tPAhgC_pfs"
      },
      "source": [
        "df=pd.read_csv('headbrain.csv')\n",
        "df"
      ],
      "execution_count": null,
      "outputs": []
    },
    {
      "cell_type": "code",
      "metadata": {
        "id": "2y_GtUTzvSof"
      },
      "source": [
        "X=df['Head Size(cm^3)'].to_numpy()\n",
        "Y=df['Brain Weight(grams)'].to_numpy()\n",
        "x_mean=np.mean(X)\n",
        "y_mean=np.mean(Y)"
      ],
      "execution_count": 4,
      "outputs": []
    },
    {
      "cell_type": "code",
      "metadata": {
        "id": "K0ZuOX4wBkrA"
      },
      "source": [
        "num=0\n",
        "demo=0\n",
        "for i in range(0, len(df), 1) :\n",
        "  num+=((X[i]-x_mean)*(Y[i]-y_mean))\n",
        "  demo+=(X[i]-x_mean)**2\n",
        "m=num/demo\n",
        "c=y_mean-(m*x_mean)\n",
        "print(m, c)"
      ],
      "execution_count": null,
      "outputs": []
    },
    {
      "cell_type": "code",
      "metadata": {
        "id": "5T0s1d0xqmXr"
      },
      "source": [
        "num=0\n",
        "demo=0\n",
        "for i in range(0, len(df), 1) :\n",
        "  num+=(m*X[i]+c-y_mean)**2\n",
        "  demo+=(Y[i]-y_mean)**2\n",
        "r2_score=num/demo\n",
        "print(r2_score)"
      ],
      "execution_count": null,
      "outputs": []
    },
    {
      "cell_type": "code",
      "metadata": {
        "id": "muFGSn21zlA9"
      },
      "source": [
        "plt.plot(X, Y, 'ro')\n",
        "plt.plot(X, (m*X+c), 'b')\n",
        "plt.xlabel('Head Size(cm^3)')\n",
        "plt.ylabel('Brain Weight(grams)')\n",
        "plt.title('Head Size Vs Brain Weight')\n",
        "plt.grid()\n",
        "plt.show()"
      ],
      "execution_count": null,
      "outputs": []
    },
    {
      "cell_type": "code",
      "metadata": {
        "id": "HObRcDTgnxwi"
      },
      "source": [
        "X=np.reshape(X, (-1, 1))\n",
        "model=LinearRegression()\n",
        "model.fit(X, Y)"
      ],
      "execution_count": null,
      "outputs": []
    },
    {
      "cell_type": "code",
      "metadata": {
        "id": "k4Uv4oAlL1OE"
      },
      "source": [
        "m=model.coef_\n",
        "c=model.intercept_\n",
        "print(m, c)"
      ],
      "execution_count": null,
      "outputs": []
    },
    {
      "cell_type": "code",
      "metadata": {
        "id": "PROSpZU8oqI-"
      },
      "source": [
        "r2_score=model.score(X, Y)\n",
        "print(r2_score)"
      ],
      "execution_count": null,
      "outputs": []
    },
    {
      "cell_type": "code",
      "metadata": {
        "id": "DM8PJ096MmlA"
      },
      "source": [
        "plt.plot(X, Y, 'ro')\n",
        "plt.plot(X, model.predict(X), 'b')\n",
        "plt.xlabel('Head Size(cm^3)')\n",
        "plt.ylabel('Brain Weight(grams)')\n",
        "plt.title('Head Size Vs Brain Weight')\n",
        "plt.grid()\n",
        "plt.show()"
      ],
      "execution_count": null,
      "outputs": []
    }
  ]
}